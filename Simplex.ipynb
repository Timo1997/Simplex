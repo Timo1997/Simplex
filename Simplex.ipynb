{
 "cells": [
  {
   "cell_type": "code",
   "execution_count": 1,
   "id": "5e9a1f24",
   "metadata": {},
   "outputs": [
    {
     "data": {
      "text/html": [
       "<script>\n",
       "    // AUTORUN ALL CELLS ON NOTEBOOK-LOAD!\n",
       "    require(\n",
       "        ['base/js/namespace', 'jquery'], \n",
       "        function(jupyter, $) {\n",
       "            $(jupyter.events).on(\"kernel_ready.Kernel\", function () {\n",
       "                console.log(\"Auto-running all cells-below...\");\n",
       "                jupyter.actions.call('jupyter-notebook:run-all-cells-below');\n",
       "                jupyter.actions.call('jupyter-notebook:save-notebook');\n",
       "            });\n",
       "        }\n",
       "    );\n",
       "</script>\n"
      ],
      "text/plain": [
       "<IPython.core.display.HTML object>"
      ]
     },
     "metadata": {},
     "output_type": "display_data"
    }
   ],
   "source": [
    "%%html\n",
    "<script>\n",
    "    // AUTORUN ALL CELLS ON NOTEBOOK-LOAD!\n",
    "    require(\n",
    "        ['base/js/namespace', 'jquery'], \n",
    "        function(jupyter, $) {\n",
    "            $(jupyter.events).on(\"kernel_ready.Kernel\", function () {\n",
    "                console.log(\"Auto-running all cells-below...\");\n",
    "                jupyter.actions.call('jupyter-notebook:run-all-cells-below');\n",
    "                jupyter.actions.call('jupyter-notebook:save-notebook');\n",
    "            });\n",
    "        }\n",
    "    );\n",
    "</script>"
   ]
  },
  {
   "cell_type": "code",
   "execution_count": 2,
   "id": "676d42a6",
   "metadata": {},
   "outputs": [
    {
     "data": {
      "text/html": [
       "<script>\n",
       "code_show=true; \n",
       "function code_toggle() {\n",
       " if (code_show){\n",
       " $('div.input').hide();\n",
       " } else {\n",
       " $('div.input').show();\n",
       " }\n",
       " code_show = !code_show\n",
       "} \n",
       "$( document ).ready(code_toggle);\n",
       "</script>\n",
       "The raw code for this IPython notebook is by default hidden for easier reading.\n",
       "To toggle on/off the raw code, click <a href=\"javascript:code_toggle()\">here</a>."
      ],
      "text/plain": [
       "<IPython.core.display.HTML object>"
      ]
     },
     "execution_count": 2,
     "metadata": {},
     "output_type": "execute_result"
    }
   ],
   "source": [
    "from IPython.display import HTML\n",
    "HTML('''<script>\n",
    "code_show=true; \n",
    "function code_toggle() {\n",
    " if (code_show){\n",
    " $('div.input').hide();\n",
    " } else {\n",
    " $('div.input').show();\n",
    " }\n",
    " code_show = !code_show\n",
    "} \n",
    "$( document ).ready(code_toggle);\n",
    "</script>\n",
    "The raw code for this IPython notebook is by default hidden for easier reading.\n",
    "To toggle on/off the raw code, click <a href=\"javascript:code_toggle()\">here</a>.''')"
   ]
  },
  {
   "cell_type": "markdown",
   "id": "4655e4af",
   "metadata": {},
   "source": [
    "# Simplex Tableau "
   ]
  },
  {
   "cell_type": "code",
   "execution_count": 3,
   "id": "2be7bb71",
   "metadata": {
    "tags": [
     "hide-input"
    ]
   },
   "outputs": [],
   "source": [
    "import ipywidgets as widgets\n",
    "import pandas as pd\n",
    "import numpy as np\n",
    "import copy\n",
    "import sympy as sp\n",
    "from sympy import sympify\n",
    "import ipysheet\n",
    "from ipysheet import sheet, cell\n",
    "from ipysheet import column, row\n",
    "from IPython.display import clear_output\n",
    "from IPython.display import Javascript\n",
    "import ipython_blocking\n",
    "import simplex_algorithm  as sa\n",
    "\n",
    "M = sp.symbols('M')\n",
    "\n"
   ]
  },
  {
   "cell_type": "code",
   "execution_count": 4,
   "id": "19d328c7",
   "metadata": {},
   "outputs": [],
   "source": [
    "\n",
    "\n",
    "def on_restr_change(change):\n",
    "    with out:\n",
    "        if change['new'] != '0':\n",
    "            anz_var.options = list(map(str, range(1, int(change['new'])+1,)))\n",
    "            anz_schlupf_var.options = list(map(str, range(0, int(change['new'])+1)))\n",
    "            anz_kuenstl_var.options = list(map(str, range(0, int(change['new'])+1)))\n",
    "            anz_var.layout.visibility = \"visible\"\n",
    "            anz_schlupf_var.layout.visibility = \"visible\"\n",
    "            anz_kuenstl_var.layout.visibility = \"visible\"\n",
    "            button.layout.visibility = \"visible\"\n",
    "        else:\n",
    "            anz_var.layout.visibility = \"hidden\"\n",
    "            anz_schlupf_var.layout.visibility = \"hidden\"\n",
    "            anz_kuenstl_var.layout.visibility = \"hidden\"\n",
    "\n",
    "\n",
    "def create_tableau(button): \n",
    "    clear_output(True)\n",
    "    display(anz_restriktionen) \n",
    "    display(anz_var)\n",
    "    display(anz_schlupf_var)\n",
    "    display(anz_kuenstl_var)\n",
    "    display(button)\n",
    "    \n",
    "def start_simplex(button):\n",
    "    copy_tableau = ipysheet.to_dataframe(input_table)\n",
    "    copy_tableau = copy_tableau.apply(pd.to_numeric, errors='ignore', downcast='float')\n",
    "    copy_tableau.columns = range(0, sum_var+3)\n",
    "    cj = []\n",
    "    cj_zj = []\n",
    "    for column in range(0,len(copy_tableau.columns)):\n",
    "        if column == 0:\n",
    "            cj.append(np.nan)\n",
    "            cj_zj.append(np.nan)\n",
    "        elif column == 1:\n",
    "            cj.append(\"cj\")\n",
    "            cj_zj.append(\"cj-zj\")\n",
    "        elif column == 2:\n",
    "            cj.append(0)\n",
    "            cj_zj.append(np.nan)\n",
    "        else:\n",
    "            cj.append(0)\n",
    "            cj_zj.append(0)\n",
    "            \n",
    "    copy_tableau.loc[len(copy_tableau.index)] = cj \n",
    "    copy_tableau.loc[len(copy_tableau.index)] = cj_zj \n",
    "    copy_tableau.replace('-M', -M,  inplace = True)\n",
    "    \n",
    "    for row in copy_tableau.index:\n",
    "        for column in copy_tableau.columns:\n",
    "            try: \n",
    "                copy_tableau.loc[row][column] = int(copy_tableau.loc[row][column])\n",
    "            except Exception:\n",
    "                pass\n",
    "    \n",
    "    sa.get_cj_zj(copy_tableau)\n",
    "    global tableau \n",
    "    tableau = copy_tableau\n",
    "    print(copy_tableau)\n",
    "            \n",
    "\n",
    "def adjust_cj(change):\n",
    "    for row in range(2, len(cell_table)):\n",
    "        if change['new'] == cell_table[row][1].value:\n",
    "            if \"s\" in cell_table[row][1].value:\n",
    "                cell_table[row][0].value = cell(row,0, 0, read_only=True, background_color = \"white\")\n",
    "            elif \"x\" in cell_table[row][1].value:\n",
    "                cell_table[row][0] = cell(row, 0, \"...\", background_color = 'yellow')\n",
    "\n",
    "def update_table(table):\n",
    "    input_table = table['new']\n",
    "    simplex_start.disabled = True\n",
    "    \n",
    "    \n",
    "    \n",
    "\n"
   ]
  },
  {
   "cell_type": "markdown",
   "id": "5cc6ff67",
   "metadata": {},
   "source": [
    "## Definiere Art/Anzahl der Variablen"
   ]
  },
  {
   "cell_type": "code",
   "execution_count": 5,
   "id": "9c33fd3e",
   "metadata": {},
   "outputs": [
    {
     "data": {
      "application/vnd.jupyter.widget-view+json": {
       "model_id": "12299114a155406eb1953f37b66c541c",
       "version_major": 2,
       "version_minor": 0
      },
      "text/plain": [
       "Output()"
      ]
     },
     "metadata": {},
     "output_type": "display_data"
    }
   ],
   "source": [
    "out = widgets.Output()\n",
    "\n",
    "\n",
    "\n",
    "anz_restriktionen = widgets.Dropdown(\n",
    "                        options=list(map(str, range(0, 6))),\n",
    "                        value= '0',\n",
    "                        description='Restriktionen:',\n",
    "                        disabled=False,\n",
    "                    )\n",
    "\n",
    "anz_var = widgets.Dropdown(\n",
    "            options=list(map(str, range(1, 6))),\n",
    "            value='1',\n",
    "            description='echte Variablen:',\n",
    "            disabled=False,\n",
    "         )\n",
    "\n",
    "anz_schlupf_var = widgets.Dropdown(\n",
    "                    options=list(map(str, range(0, 6))),\n",
    "                    value='0',\n",
    "                    description='Schlupfvariablen:',\n",
    "                    disabled=False,\n",
    "                )\n",
    "\n",
    "anz_kuenstl_var = widgets.Dropdown(\n",
    "                    options=list(map(str, range(0, 6))),\n",
    "                    value='0',\n",
    "                    description='künstliche Variablen:',\n",
    "                    disabled=False,\n",
    "                )\n",
    "sum_var=int(anz_var.value) + int(anz_schlupf_var.value) + int(anz_kuenstl_var.value)\n",
    "button = widgets.Button(description=\"Erzeuge Eingabetableau!\")\n",
    "\n",
    "\n",
    "\n",
    "\n",
    "anz_restriktionen.observe(on_restr_change, names='value')\n",
    "button.on_click(create_tableau)\n",
    "display(out)\n",
    "\n",
    "anz_restriktionen.layout.visibility = \"visible\"\n",
    "anz_var.layout.visibility = \"hidden\"\n",
    "anz_schlupf_var.layout.visibility = \"hidden\"\n",
    "anz_kuenstl_var.layout.visibility = \"hidden\"\n",
    "button.layout.visibility = \"hidden\"\n",
    "\n",
    "with out:\n",
    "    display(anz_restriktionen) \n",
    "    display(anz_var)\n",
    "    display(anz_schlupf_var)\n",
    "    display(anz_kuenstl_var)\n",
    "    display(button)\n",
    "    \n",
    "    \n",
    "    \n"
   ]
  },
  {
   "cell_type": "markdown",
   "id": "ac3ff7f7",
   "metadata": {},
   "source": [
    "## Erzeuge das Standardtableau"
   ]
  },
  {
   "cell_type": "code",
   "execution_count": 8,
   "id": "98211f6e",
   "metadata": {},
   "outputs": [],
   "source": [
    "%blockrun button"
   ]
  },
  {
   "cell_type": "code",
   "execution_count": 9,
   "id": "9cdfb778",
   "metadata": {},
   "outputs": [
    {
     "data": {
      "application/vnd.jupyter.widget-view+json": {
       "model_id": "288b786ef62a4e099d36a7c5096afd14",
       "version_major": 2,
       "version_minor": 0
      },
      "text/plain": [
       "Sheet(cells=(Cell(column_end=2, column_start=2, row_end=0, row_start=0, style={'backgroundColor': 'yellow'}, t…"
      ]
     },
     "metadata": {},
     "output_type": "display_data"
    },
    {
     "data": {
      "application/vnd.jupyter.widget-view+json": {
       "model_id": "ea7ae7a620834f03ab28ce57d9b8316c",
       "version_major": 2,
       "version_minor": 0
      },
      "text/plain": [
       "Button(description='Überprüfe Eingabe', style=ButtonStyle())"
      ]
     },
     "metadata": {},
     "output_type": "display_data"
    },
    {
     "data": {
      "application/vnd.jupyter.widget-view+json": {
       "model_id": "823a86f3866f4662866f2d0180fe00e5",
       "version_major": 2,
       "version_minor": 0
      },
      "text/plain": [
       "Button(description='Starte Simplex', disabled=True, style=ButtonStyle())"
      ]
     },
     "metadata": {},
     "output_type": "display_data"
    },
    {
     "name": "stdout",
     "output_type": "stream",
     "text": [
      "     0              1         2          3           4   5   6   7   8\n",
      "0                                      300         200   0   0  -M  -M\n",
      "1   cj  Basisvariable  Quantity         x1          x2  s1  s2  a1  a2\n",
      "2   -M             a1        60          2           2   0   0   1   0\n",
      "3   -M             a2        80          2           8  -1   0   0   1\n",
      "4    0             s2        40          1           0   0   1   0   0\n",
      "5  NaN             cj    -140*M       -4*M       -10*M   M   0  -M  -M\n",
      "6  NaN          cj-zj       NaN  4*M + 300  10*M + 200  -M   0   0   0\n"
     ]
    },
    {
     "data": {
      "application/javascript": [
       "Jupyter.notebook.select_next().execute_cells_below()"
      ],
      "text/plain": [
       "<IPython.core.display.Javascript object>"
      ]
     },
     "metadata": {},
     "output_type": "display_data"
    }
   ],
   "source": [
    "list_var = []\n",
    "\n",
    "spalte = 3\n",
    "reihe_basis_var = 2\n",
    "sum_var=int(anz_var.value) + int(anz_schlupf_var.value) + int(anz_kuenstl_var.value)\n",
    "input_table = ipysheet.sheet(rows=2+float(anz_restriktionen.value), columns=sum_var+3,  row_headers=False, column_headers=False)\n",
    "M = sp.symbols('M')\n",
    "tableau = \"globale Variable\"\n",
    "\n",
    "\n",
    "    \n",
    "    \n",
    "    \n",
    "    \n",
    "\n",
    "    \n",
    "#zwei Dimensionales Array, welches Sheet repräsentiert\n",
    "cell_table = [[0]*input_table.columns for i in range(input_table.rows)]\n",
    "\n",
    "for row in range(0,input_table.rows):\n",
    "    for column in range(0,input_table.columns):\n",
    "        if column != 0 and column != 1:\n",
    "            cell_table[row][column] = cell(row, column, \"...\", background_color = 'yellow')\n",
    "            cell_table[row][column].observe(update_table)\n",
    "\n",
    "\n",
    "cell_table[0][0] = cell(0,0, \"\", read_only=True, background_color='grey')\n",
    "cell_table[0][1] = cell(0,1, \"\", read_only=True, background_color='grey')\n",
    "cell_table[0][2] = cell(0,2, \"\", read_only=True, background_color='grey')\n",
    "\n",
    "#Befülle Reihe mit Beschreibung\n",
    "\n",
    "cell_table[1][0] = cell(1, 0, \"cj\", read_only=True, font_weight = 'bold', background_color = \"white\")\n",
    "cell_table[1][1] = cell(1, 1, \"Basisvariable\", read_only=True, font_weight = 'bold', background_color = \"white\")\n",
    "cell_table[1][2] = cell(1, 2, \"Quantity\", read_only=True, font_weight = 'bold', background_color = \"white\")\n",
    "\n",
    "for anz in range(1, int(anz_var.value)+1):\n",
    "    var_name = \"x\"+ str(anz)\n",
    "    cell_table[1][spalte] = cell(1,spalte, var_name, ready_only=True,font_weight = 'bold', background_color = \"white\")\n",
    "    list_var.append(cell_table[1][spalte])\n",
    "    spalte += 1\n",
    "\n",
    "for anz in range(1, int(anz_schlupf_var.value)+1):\n",
    "    var_name = \"s\"+ str(anz)\n",
    "    cell_table[0][spalte] = cell(0,spalte, 0, read_only=True, background_color = \"white\")\n",
    "    cell_table[1][spalte] = cell(1,spalte, var_name, read_only=True, font_weight = 'bold', background_color = \"white\")   \n",
    "    list_var.append(cell_table[1][spalte])\n",
    "    spalte += 1\n",
    "\n",
    "for anz in range(1, int(anz_kuenstl_var.value)+1):\n",
    "    var_name =  \"a\"+ str(anz)\n",
    "    cell_table[0][spalte] = cell(0,spalte, \"-M\", read_only=True, background_color = \"white\")\n",
    "    cell_table[1][spalte] = cell(1,spalte, var_name, read_only=True, font_weight = 'bold', background_color = \"white\")   \n",
    "    list_var.append(cell_table[1][spalte])\n",
    "    spalte += 1\n",
    "\n",
    "start_basisvar = list_var[(len(list_var)-int(anz_restriktionen.value)):]\n",
    "start_basisvar.sort(key=lambda x: x.value)\n",
    "basis_selection = []\n",
    "\n",
    "for var in list_var:\n",
    "    if \"a\" in var.value:\n",
    "        break\n",
    "    basis_selection.append(var.value)\n",
    "    \n",
    "    \n",
    "\n",
    "\n",
    "    \n",
    "  \n",
    "    \n",
    "\n",
    "for row in range(2,input_table.rows):\n",
    "    if \"a\" in start_basisvar[row-2].value:\n",
    "        cell_table[row][0] = cell(row,0, '-M', read_only=True, background_color = \"white\")\n",
    "        cell_table[row][1] = cell(row,1, start_basisvar[row-2].value, read_only=True, font_weight = 'bold', background_color = \"white\")\n",
    "    if \"s\" in start_basisvar[row-2].value:\n",
    "        cell_table[row][0] = cell(row,0, 0, read_only=True, background_color = \"white\")  \n",
    "        cell_table[row][1] = cell(row,1, start_basisvar[row-2].value, read_only=False, font_weight = 'bold', choice = basis_selection, background_color = \"yellow\")\n",
    "        cell_table[row][1].observe(adjust_cj)\n",
    "    if \"x\" in start_basisvar[row-2].value:\n",
    "        cell_table[row][1] = cell(row,1, start_basisvar[row-2].value, read_only=False, font_weight = 'bold', choice = basis_selection, background_color = \"yellow\")\n",
    "        cell_table[row][0] = cell(row, 0, \"...\", background_color = 'yellow')\n",
    "        cell_table[row][1].observe(adjust_cj)\n",
    "    \n",
    "\n",
    "def correct_input(button):\n",
    "    wrong_input_counter = 0\n",
    "    for row in range(0,input_table.rows):\n",
    "        for column in range(0,input_table.columns):\n",
    "            if cell_table[row][column].style == {'backgroundColor': 'yellow'} or cell_table[row][column].style == {'backgroundColor': 'red'} and column != 1:\n",
    "                try:\n",
    "                    test = float(cell_table[row][column].value)\n",
    "                    cell_table[row][column].style = {'backgroundColor': 'yellow'}\n",
    "                except ValueError:\n",
    "                    cell_table[row][column].style = {'backgroundColor': 'red'}\n",
    "                    wrong_input_counter += 1\n",
    "    if wrong_input_counter == 0:\n",
    "        simplex_start.disabled = False\n",
    "    else:\n",
    "        simplex_start.disabled = True\n",
    "                \n",
    "\n",
    "\n",
    "display(input_table)\n",
    "\n",
    "simplex_start = widgets.Button(description=\"Starte Simplex\", disabled=True)\n",
    "check_input = widgets.Button(description=\"Überprüfe Eingabe\")\n",
    "check_input.on_click(correct_input)\n",
    "display(check_input)\n",
    "display(simplex_start)\n",
    "\n",
    " \n",
    "\n",
    "simplex_start.on_click(start_simplex)\n",
    "\n",
    "# example\n",
    "#0                                      300         200   0   0  -M  -M\n",
    "#1   cj  Basisvariable  Quantity         x1          x2  s1  s2  a1  a2\n",
    "#2   -M             a1        60          2           2   0   0   1   0\n",
    "#3   -M             a2        80          2           8  -1   0   0   1\n",
    "#4    0             s2        40          1           0   0   1   0   0\n",
    "#5  NaN             cj    -140*M       -4*M       -10*M   M   0  -M  -M\n",
    "#6  NaN          cj-zj       NaN  4*M + 300  10*M + 200  -M   0   0   0"
   ]
  },
  {
   "cell_type": "code",
   "execution_count": 12,
   "id": "9ad45110",
   "metadata": {},
   "outputs": [],
   "source": [
    "%blockrun simplex_start"
   ]
  },
  {
   "cell_type": "code",
   "execution_count": 13,
   "id": "8eda1a9a",
   "metadata": {
    "tags": [
     "hide-input"
    ]
   },
   "outputs": [],
   "source": [
    "#Simplex Algorithmus\n",
    "list_tableaus, Meldungen, list_pivot_elements = sa.simplex_algorithm(tableau, 10,M)"
   ]
  },
  {
   "cell_type": "markdown",
   "id": "1b041ebd",
   "metadata": {},
   "source": [
    "## Ergebnis "
   ]
  },
  {
   "cell_type": "code",
   "execution_count": 14,
   "id": "1226e84c",
   "metadata": {},
   "outputs": [
    {
     "data": {
      "application/vnd.jupyter.widget-view+json": {
       "model_id": "1041371d0f504446a3585973607e2aea",
       "version_major": 2,
       "version_minor": 0
      },
      "text/plain": [
       "Label(value='0.Tableau')"
      ]
     },
     "metadata": {},
     "output_type": "display_data"
    },
    {
     "data": {
      "text/html": [
       "<style type=\"text/css\">\n",
       "#T_0c17f_row0_col4, #T_0c17f_row1_col4, #T_0c17f_row2_col4, #T_0c17f_row3_col0, #T_0c17f_row3_col1, #T_0c17f_row3_col2, #T_0c17f_row3_col3, #T_0c17f_row3_col5, #T_0c17f_row3_col6, #T_0c17f_row3_col7, #T_0c17f_row3_col8, #T_0c17f_row4_col4, #T_0c17f_row5_col4, #T_0c17f_row6_col4 {\n",
       "  background: lightblue;\n",
       "}\n",
       "#T_0c17f_row3_col4 {\n",
       "  background: lightblue;\n",
       "  background: lightblue;\n",
       "}\n",
       "</style>\n",
       "<table id=\"T_0c17f_\">\n",
       "  <thead>\n",
       "  </thead>\n",
       "  <tbody>\n",
       "    <tr>\n",
       "      <td id=\"T_0c17f_row0_col0\" class=\"data row0 col0\" ></td>\n",
       "      <td id=\"T_0c17f_row0_col1\" class=\"data row0 col1\" ></td>\n",
       "      <td id=\"T_0c17f_row0_col2\" class=\"data row0 col2\" ></td>\n",
       "      <td id=\"T_0c17f_row0_col3\" class=\"data row0 col3\" >300</td>\n",
       "      <td id=\"T_0c17f_row0_col4\" class=\"data row0 col4\" >200</td>\n",
       "      <td id=\"T_0c17f_row0_col5\" class=\"data row0 col5\" >0</td>\n",
       "      <td id=\"T_0c17f_row0_col6\" class=\"data row0 col6\" >0</td>\n",
       "      <td id=\"T_0c17f_row0_col7\" class=\"data row0 col7\" >-M</td>\n",
       "      <td id=\"T_0c17f_row0_col8\" class=\"data row0 col8\" >-M</td>\n",
       "    </tr>\n",
       "    <tr>\n",
       "      <td id=\"T_0c17f_row1_col0\" class=\"data row1 col0\" >cj</td>\n",
       "      <td id=\"T_0c17f_row1_col1\" class=\"data row1 col1\" >Basisvariable</td>\n",
       "      <td id=\"T_0c17f_row1_col2\" class=\"data row1 col2\" >Quantity</td>\n",
       "      <td id=\"T_0c17f_row1_col3\" class=\"data row1 col3\" >x1</td>\n",
       "      <td id=\"T_0c17f_row1_col4\" class=\"data row1 col4\" >x2</td>\n",
       "      <td id=\"T_0c17f_row1_col5\" class=\"data row1 col5\" >s1</td>\n",
       "      <td id=\"T_0c17f_row1_col6\" class=\"data row1 col6\" >s2</td>\n",
       "      <td id=\"T_0c17f_row1_col7\" class=\"data row1 col7\" >a1</td>\n",
       "      <td id=\"T_0c17f_row1_col8\" class=\"data row1 col8\" >a2</td>\n",
       "    </tr>\n",
       "    <tr>\n",
       "      <td id=\"T_0c17f_row2_col0\" class=\"data row2 col0\" >-M</td>\n",
       "      <td id=\"T_0c17f_row2_col1\" class=\"data row2 col1\" >a1</td>\n",
       "      <td id=\"T_0c17f_row2_col2\" class=\"data row2 col2\" >60</td>\n",
       "      <td id=\"T_0c17f_row2_col3\" class=\"data row2 col3\" >2</td>\n",
       "      <td id=\"T_0c17f_row2_col4\" class=\"data row2 col4\" >2</td>\n",
       "      <td id=\"T_0c17f_row2_col5\" class=\"data row2 col5\" >0</td>\n",
       "      <td id=\"T_0c17f_row2_col6\" class=\"data row2 col6\" >0</td>\n",
       "      <td id=\"T_0c17f_row2_col7\" class=\"data row2 col7\" >1</td>\n",
       "      <td id=\"T_0c17f_row2_col8\" class=\"data row2 col8\" >0</td>\n",
       "    </tr>\n",
       "    <tr>\n",
       "      <td id=\"T_0c17f_row3_col0\" class=\"data row3 col0\" >-M</td>\n",
       "      <td id=\"T_0c17f_row3_col1\" class=\"data row3 col1\" >a2</td>\n",
       "      <td id=\"T_0c17f_row3_col2\" class=\"data row3 col2\" >80</td>\n",
       "      <td id=\"T_0c17f_row3_col3\" class=\"data row3 col3\" >2</td>\n",
       "      <td id=\"T_0c17f_row3_col4\" class=\"data row3 col4\" >8</td>\n",
       "      <td id=\"T_0c17f_row3_col5\" class=\"data row3 col5\" >-1</td>\n",
       "      <td id=\"T_0c17f_row3_col6\" class=\"data row3 col6\" >0</td>\n",
       "      <td id=\"T_0c17f_row3_col7\" class=\"data row3 col7\" >0</td>\n",
       "      <td id=\"T_0c17f_row3_col8\" class=\"data row3 col8\" >1</td>\n",
       "    </tr>\n",
       "    <tr>\n",
       "      <td id=\"T_0c17f_row4_col0\" class=\"data row4 col0\" >0</td>\n",
       "      <td id=\"T_0c17f_row4_col1\" class=\"data row4 col1\" >s2</td>\n",
       "      <td id=\"T_0c17f_row4_col2\" class=\"data row4 col2\" >40</td>\n",
       "      <td id=\"T_0c17f_row4_col3\" class=\"data row4 col3\" >1</td>\n",
       "      <td id=\"T_0c17f_row4_col4\" class=\"data row4 col4\" >0</td>\n",
       "      <td id=\"T_0c17f_row4_col5\" class=\"data row4 col5\" >0</td>\n",
       "      <td id=\"T_0c17f_row4_col6\" class=\"data row4 col6\" >1</td>\n",
       "      <td id=\"T_0c17f_row4_col7\" class=\"data row4 col7\" >0</td>\n",
       "      <td id=\"T_0c17f_row4_col8\" class=\"data row4 col8\" >0</td>\n",
       "    </tr>\n",
       "    <tr>\n",
       "      <td id=\"T_0c17f_row5_col0\" class=\"data row5 col0\" ></td>\n",
       "      <td id=\"T_0c17f_row5_col1\" class=\"data row5 col1\" >cj</td>\n",
       "      <td id=\"T_0c17f_row5_col2\" class=\"data row5 col2\" >-140*M</td>\n",
       "      <td id=\"T_0c17f_row5_col3\" class=\"data row5 col3\" >-4*M</td>\n",
       "      <td id=\"T_0c17f_row5_col4\" class=\"data row5 col4\" >-10*M</td>\n",
       "      <td id=\"T_0c17f_row5_col5\" class=\"data row5 col5\" >M</td>\n",
       "      <td id=\"T_0c17f_row5_col6\" class=\"data row5 col6\" >0</td>\n",
       "      <td id=\"T_0c17f_row5_col7\" class=\"data row5 col7\" >-M</td>\n",
       "      <td id=\"T_0c17f_row5_col8\" class=\"data row5 col8\" >-M</td>\n",
       "    </tr>\n",
       "    <tr>\n",
       "      <td id=\"T_0c17f_row6_col0\" class=\"data row6 col0\" ></td>\n",
       "      <td id=\"T_0c17f_row6_col1\" class=\"data row6 col1\" >cj-zj</td>\n",
       "      <td id=\"T_0c17f_row6_col2\" class=\"data row6 col2\" ></td>\n",
       "      <td id=\"T_0c17f_row6_col3\" class=\"data row6 col3\" >4*M + 300</td>\n",
       "      <td id=\"T_0c17f_row6_col4\" class=\"data row6 col4\" >10*M + 200</td>\n",
       "      <td id=\"T_0c17f_row6_col5\" class=\"data row6 col5\" >-M</td>\n",
       "      <td id=\"T_0c17f_row6_col6\" class=\"data row6 col6\" >0</td>\n",
       "      <td id=\"T_0c17f_row6_col7\" class=\"data row6 col7\" >0</td>\n",
       "      <td id=\"T_0c17f_row6_col8\" class=\"data row6 col8\" >0</td>\n",
       "    </tr>\n",
       "  </tbody>\n",
       "</table>\n"
      ],
      "text/plain": [
       "<pandas.io.formats.style.Styler at 0x1a2c8c82280>"
      ]
     },
     "metadata": {},
     "output_type": "display_data"
    },
    {
     "name": "stdout",
     "output_type": "stream",
     "text": [
      "\n"
     ]
    },
    {
     "data": {
      "application/vnd.jupyter.widget-view+json": {
       "model_id": "22533228325944f39af6a8b228de8a50",
       "version_major": 2,
       "version_minor": 0
      },
      "text/plain": [
       "Label(value='1.Tableau')"
      ]
     },
     "metadata": {},
     "output_type": "display_data"
    },
    {
     "data": {
      "text/html": [
       "<style type=\"text/css\">\n",
       "#T_0a845_row0_col3, #T_0a845_row1_col3, #T_0a845_row2_col0, #T_0a845_row2_col1, #T_0a845_row2_col2, #T_0a845_row2_col4, #T_0a845_row2_col5, #T_0a845_row2_col6, #T_0a845_row2_col7, #T_0a845_row2_col8, #T_0a845_row3_col3, #T_0a845_row4_col3, #T_0a845_row5_col3, #T_0a845_row6_col3 {\n",
       "  background: lightblue;\n",
       "}\n",
       "#T_0a845_row2_col3 {\n",
       "  background: lightblue;\n",
       "  background: lightblue;\n",
       "}\n",
       "</style>\n",
       "<table id=\"T_0a845_\">\n",
       "  <thead>\n",
       "  </thead>\n",
       "  <tbody>\n",
       "    <tr>\n",
       "      <td id=\"T_0a845_row0_col0\" class=\"data row0 col0\" ></td>\n",
       "      <td id=\"T_0a845_row0_col1\" class=\"data row0 col1\" ></td>\n",
       "      <td id=\"T_0a845_row0_col2\" class=\"data row0 col2\" ></td>\n",
       "      <td id=\"T_0a845_row0_col3\" class=\"data row0 col3\" >300</td>\n",
       "      <td id=\"T_0a845_row0_col4\" class=\"data row0 col4\" >200</td>\n",
       "      <td id=\"T_0a845_row0_col5\" class=\"data row0 col5\" >0</td>\n",
       "      <td id=\"T_0a845_row0_col6\" class=\"data row0 col6\" >0</td>\n",
       "      <td id=\"T_0a845_row0_col7\" class=\"data row0 col7\" >-M</td>\n",
       "      <td id=\"T_0a845_row0_col8\" class=\"data row0 col8\" >-M</td>\n",
       "    </tr>\n",
       "    <tr>\n",
       "      <td id=\"T_0a845_row1_col0\" class=\"data row1 col0\" >cj</td>\n",
       "      <td id=\"T_0a845_row1_col1\" class=\"data row1 col1\" >Basisvariable</td>\n",
       "      <td id=\"T_0a845_row1_col2\" class=\"data row1 col2\" >Quantity</td>\n",
       "      <td id=\"T_0a845_row1_col3\" class=\"data row1 col3\" >x1</td>\n",
       "      <td id=\"T_0a845_row1_col4\" class=\"data row1 col4\" >x2</td>\n",
       "      <td id=\"T_0a845_row1_col5\" class=\"data row1 col5\" >s1</td>\n",
       "      <td id=\"T_0a845_row1_col6\" class=\"data row1 col6\" >s2</td>\n",
       "      <td id=\"T_0a845_row1_col7\" class=\"data row1 col7\" >a1</td>\n",
       "      <td id=\"T_0a845_row1_col8\" class=\"data row1 col8\" >a2</td>\n",
       "    </tr>\n",
       "    <tr>\n",
       "      <td id=\"T_0a845_row2_col0\" class=\"data row2 col0\" >-M</td>\n",
       "      <td id=\"T_0a845_row2_col1\" class=\"data row2 col1\" >a1</td>\n",
       "      <td id=\"T_0a845_row2_col2\" class=\"data row2 col2\" >40.000</td>\n",
       "      <td id=\"T_0a845_row2_col3\" class=\"data row2 col3\" >1.500</td>\n",
       "      <td id=\"T_0a845_row2_col4\" class=\"data row2 col4\" >0.000</td>\n",
       "      <td id=\"T_0a845_row2_col5\" class=\"data row2 col5\" >0.250</td>\n",
       "      <td id=\"T_0a845_row2_col6\" class=\"data row2 col6\" >0.000</td>\n",
       "      <td id=\"T_0a845_row2_col7\" class=\"data row2 col7\" >1.000</td>\n",
       "      <td id=\"T_0a845_row2_col8\" class=\"data row2 col8\" >-0.250</td>\n",
       "    </tr>\n",
       "    <tr>\n",
       "      <td id=\"T_0a845_row3_col0\" class=\"data row3 col0\" >200</td>\n",
       "      <td id=\"T_0a845_row3_col1\" class=\"data row3 col1\" >x2</td>\n",
       "      <td id=\"T_0a845_row3_col2\" class=\"data row3 col2\" >10.000</td>\n",
       "      <td id=\"T_0a845_row3_col3\" class=\"data row3 col3\" >0.250</td>\n",
       "      <td id=\"T_0a845_row3_col4\" class=\"data row3 col4\" >1.000</td>\n",
       "      <td id=\"T_0a845_row3_col5\" class=\"data row3 col5\" >-0.125</td>\n",
       "      <td id=\"T_0a845_row3_col6\" class=\"data row3 col6\" >0.000</td>\n",
       "      <td id=\"T_0a845_row3_col7\" class=\"data row3 col7\" >0.000</td>\n",
       "      <td id=\"T_0a845_row3_col8\" class=\"data row3 col8\" >0.125</td>\n",
       "    </tr>\n",
       "    <tr>\n",
       "      <td id=\"T_0a845_row4_col0\" class=\"data row4 col0\" >0</td>\n",
       "      <td id=\"T_0a845_row4_col1\" class=\"data row4 col1\" >s2</td>\n",
       "      <td id=\"T_0a845_row4_col2\" class=\"data row4 col2\" >40.000</td>\n",
       "      <td id=\"T_0a845_row4_col3\" class=\"data row4 col3\" >1.000</td>\n",
       "      <td id=\"T_0a845_row4_col4\" class=\"data row4 col4\" >0.000</td>\n",
       "      <td id=\"T_0a845_row4_col5\" class=\"data row4 col5\" >0.000</td>\n",
       "      <td id=\"T_0a845_row4_col6\" class=\"data row4 col6\" >1.000</td>\n",
       "      <td id=\"T_0a845_row4_col7\" class=\"data row4 col7\" >0.000</td>\n",
       "      <td id=\"T_0a845_row4_col8\" class=\"data row4 col8\" >0.000</td>\n",
       "    </tr>\n",
       "    <tr>\n",
       "      <td id=\"T_0a845_row5_col0\" class=\"data row5 col0\" ></td>\n",
       "      <td id=\"T_0a845_row5_col1\" class=\"data row5 col1\" >cj</td>\n",
       "      <td id=\"T_0a845_row5_col2\" class=\"data row5 col2\" >2000.0 - 40.0*M</td>\n",
       "      <td id=\"T_0a845_row5_col3\" class=\"data row5 col3\" >50.0 - 1.5*M</td>\n",
       "      <td id=\"T_0a845_row5_col4\" class=\"data row5 col4\" >200.000000000000</td>\n",
       "      <td id=\"T_0a845_row5_col5\" class=\"data row5 col5\" >-0.25*M - 25.0</td>\n",
       "      <td id=\"T_0a845_row5_col6\" class=\"data row5 col6\" >0</td>\n",
       "      <td id=\"T_0a845_row5_col7\" class=\"data row5 col7\" >-1.0*M</td>\n",
       "      <td id=\"T_0a845_row5_col8\" class=\"data row5 col8\" >0.25*M + 25.0</td>\n",
       "    </tr>\n",
       "    <tr>\n",
       "      <td id=\"T_0a845_row6_col0\" class=\"data row6 col0\" ></td>\n",
       "      <td id=\"T_0a845_row6_col1\" class=\"data row6 col1\" >cj-zj</td>\n",
       "      <td id=\"T_0a845_row6_col2\" class=\"data row6 col2\" ></td>\n",
       "      <td id=\"T_0a845_row6_col3\" class=\"data row6 col3\" >1.5*M + 250.0</td>\n",
       "      <td id=\"T_0a845_row6_col4\" class=\"data row6 col4\" >0</td>\n",
       "      <td id=\"T_0a845_row6_col5\" class=\"data row6 col5\" >0.25*M + 25.0</td>\n",
       "      <td id=\"T_0a845_row6_col6\" class=\"data row6 col6\" >0</td>\n",
       "      <td id=\"T_0a845_row6_col7\" class=\"data row6 col7\" >0</td>\n",
       "      <td id=\"T_0a845_row6_col8\" class=\"data row6 col8\" >-1.25*M - 25.0</td>\n",
       "    </tr>\n",
       "  </tbody>\n",
       "</table>\n"
      ],
      "text/plain": [
       "<pandas.io.formats.style.Styler at 0x1a2c93cf820>"
      ]
     },
     "metadata": {},
     "output_type": "display_data"
    },
    {
     "name": "stdout",
     "output_type": "stream",
     "text": [
      "\n"
     ]
    },
    {
     "data": {
      "application/vnd.jupyter.widget-view+json": {
       "model_id": "1810eddba59348e9aad952f1c8b2cc12",
       "version_major": 2,
       "version_minor": 0
      },
      "text/plain": [
       "Label(value='2.Tableau')"
      ]
     },
     "metadata": {},
     "output_type": "display_data"
    },
    {
     "data": {
      "text/html": [
       "<style type=\"text/css\">\n",
       "</style>\n",
       "<table id=\"T_56bc7_\">\n",
       "  <thead>\n",
       "  </thead>\n",
       "  <tbody>\n",
       "    <tr>\n",
       "      <td id=\"T_56bc7_row0_col0\" class=\"data row0 col0\" ></td>\n",
       "      <td id=\"T_56bc7_row0_col1\" class=\"data row0 col1\" ></td>\n",
       "      <td id=\"T_56bc7_row0_col2\" class=\"data row0 col2\" ></td>\n",
       "      <td id=\"T_56bc7_row0_col3\" class=\"data row0 col3\" >300</td>\n",
       "      <td id=\"T_56bc7_row0_col4\" class=\"data row0 col4\" >200</td>\n",
       "      <td id=\"T_56bc7_row0_col5\" class=\"data row0 col5\" >0</td>\n",
       "      <td id=\"T_56bc7_row0_col6\" class=\"data row0 col6\" >0</td>\n",
       "      <td id=\"T_56bc7_row0_col7\" class=\"data row0 col7\" >-M</td>\n",
       "      <td id=\"T_56bc7_row0_col8\" class=\"data row0 col8\" >-M</td>\n",
       "    </tr>\n",
       "    <tr>\n",
       "      <td id=\"T_56bc7_row1_col0\" class=\"data row1 col0\" >cj</td>\n",
       "      <td id=\"T_56bc7_row1_col1\" class=\"data row1 col1\" >Basisvariable</td>\n",
       "      <td id=\"T_56bc7_row1_col2\" class=\"data row1 col2\" >Quantity</td>\n",
       "      <td id=\"T_56bc7_row1_col3\" class=\"data row1 col3\" >x1</td>\n",
       "      <td id=\"T_56bc7_row1_col4\" class=\"data row1 col4\" >x2</td>\n",
       "      <td id=\"T_56bc7_row1_col5\" class=\"data row1 col5\" >s1</td>\n",
       "      <td id=\"T_56bc7_row1_col6\" class=\"data row1 col6\" >s2</td>\n",
       "      <td id=\"T_56bc7_row1_col7\" class=\"data row1 col7\" >a1</td>\n",
       "      <td id=\"T_56bc7_row1_col8\" class=\"data row1 col8\" >a2</td>\n",
       "    </tr>\n",
       "    <tr>\n",
       "      <td id=\"T_56bc7_row2_col0\" class=\"data row2 col0\" >300</td>\n",
       "      <td id=\"T_56bc7_row2_col1\" class=\"data row2 col1\" >x1</td>\n",
       "      <td id=\"T_56bc7_row2_col2\" class=\"data row2 col2\" >26.667</td>\n",
       "      <td id=\"T_56bc7_row2_col3\" class=\"data row2 col3\" >1.000</td>\n",
       "      <td id=\"T_56bc7_row2_col4\" class=\"data row2 col4\" >0.000</td>\n",
       "      <td id=\"T_56bc7_row2_col5\" class=\"data row2 col5\" >0.167</td>\n",
       "      <td id=\"T_56bc7_row2_col6\" class=\"data row2 col6\" >0.000</td>\n",
       "      <td id=\"T_56bc7_row2_col7\" class=\"data row2 col7\" >0.667</td>\n",
       "      <td id=\"T_56bc7_row2_col8\" class=\"data row2 col8\" >-0.167</td>\n",
       "    </tr>\n",
       "    <tr>\n",
       "      <td id=\"T_56bc7_row3_col0\" class=\"data row3 col0\" >200</td>\n",
       "      <td id=\"T_56bc7_row3_col1\" class=\"data row3 col1\" >x2</td>\n",
       "      <td id=\"T_56bc7_row3_col2\" class=\"data row3 col2\" >3.333</td>\n",
       "      <td id=\"T_56bc7_row3_col3\" class=\"data row3 col3\" >0.000</td>\n",
       "      <td id=\"T_56bc7_row3_col4\" class=\"data row3 col4\" >1.000</td>\n",
       "      <td id=\"T_56bc7_row3_col5\" class=\"data row3 col5\" >-0.167</td>\n",
       "      <td id=\"T_56bc7_row3_col6\" class=\"data row3 col6\" >0.000</td>\n",
       "      <td id=\"T_56bc7_row3_col7\" class=\"data row3 col7\" >-0.167</td>\n",
       "      <td id=\"T_56bc7_row3_col8\" class=\"data row3 col8\" >0.167</td>\n",
       "    </tr>\n",
       "    <tr>\n",
       "      <td id=\"T_56bc7_row4_col0\" class=\"data row4 col0\" >0</td>\n",
       "      <td id=\"T_56bc7_row4_col1\" class=\"data row4 col1\" >s2</td>\n",
       "      <td id=\"T_56bc7_row4_col2\" class=\"data row4 col2\" >13.333</td>\n",
       "      <td id=\"T_56bc7_row4_col3\" class=\"data row4 col3\" >0.000</td>\n",
       "      <td id=\"T_56bc7_row4_col4\" class=\"data row4 col4\" >0.000</td>\n",
       "      <td id=\"T_56bc7_row4_col5\" class=\"data row4 col5\" >-0.167</td>\n",
       "      <td id=\"T_56bc7_row4_col6\" class=\"data row4 col6\" >1.000</td>\n",
       "      <td id=\"T_56bc7_row4_col7\" class=\"data row4 col7\" >-0.667</td>\n",
       "      <td id=\"T_56bc7_row4_col8\" class=\"data row4 col8\" >0.167</td>\n",
       "    </tr>\n",
       "    <tr>\n",
       "      <td id=\"T_56bc7_row5_col0\" class=\"data row5 col0\" ></td>\n",
       "      <td id=\"T_56bc7_row5_col1\" class=\"data row5 col1\" >cj</td>\n",
       "      <td id=\"T_56bc7_row5_col2\" class=\"data row5 col2\" >8666.667</td>\n",
       "      <td id=\"T_56bc7_row5_col3\" class=\"data row5 col3\" >300.000</td>\n",
       "      <td id=\"T_56bc7_row5_col4\" class=\"data row5 col4\" >200.000</td>\n",
       "      <td id=\"T_56bc7_row5_col5\" class=\"data row5 col5\" >16.667</td>\n",
       "      <td id=\"T_56bc7_row5_col6\" class=\"data row5 col6\" >0.000</td>\n",
       "      <td id=\"T_56bc7_row5_col7\" class=\"data row5 col7\" >166.667</td>\n",
       "      <td id=\"T_56bc7_row5_col8\" class=\"data row5 col8\" >-16.667</td>\n",
       "    </tr>\n",
       "    <tr>\n",
       "      <td id=\"T_56bc7_row6_col0\" class=\"data row6 col0\" ></td>\n",
       "      <td id=\"T_56bc7_row6_col1\" class=\"data row6 col1\" >cj-zj</td>\n",
       "      <td id=\"T_56bc7_row6_col2\" class=\"data row6 col2\" ></td>\n",
       "      <td id=\"T_56bc7_row6_col3\" class=\"data row6 col3\" >0.000</td>\n",
       "      <td id=\"T_56bc7_row6_col4\" class=\"data row6 col4\" >0.000</td>\n",
       "      <td id=\"T_56bc7_row6_col5\" class=\"data row6 col5\" >-16.667</td>\n",
       "      <td id=\"T_56bc7_row6_col6\" class=\"data row6 col6\" >0.000</td>\n",
       "      <td id=\"T_56bc7_row6_col7\" class=\"data row6 col7\" >-M - 166.666666666667</td>\n",
       "      <td id=\"T_56bc7_row6_col8\" class=\"data row6 col8\" >16.6666666666667 - M</td>\n",
       "    </tr>\n",
       "  </tbody>\n",
       "</table>\n"
      ],
      "text/plain": [
       "<pandas.io.formats.style.Styler at 0x1a2c8d4a400>"
      ]
     },
     "metadata": {},
     "output_type": "display_data"
    },
    {
     "name": "stdout",
     "output_type": "stream",
     "text": [
      "\n"
     ]
    }
   ],
   "source": [
    "pd.set_option(\"precision\", 3)\n",
    "\n",
    "\n",
    "\n",
    "#Erzeuge Tableaus (untereinander damit man es ausdrucken kann)\n",
    "for table in range(0,len(list_tableaus)):\n",
    "    display(widgets.Label(value= str(table) + \".Tableau\"))\n",
    "    #display(list_tableaus[table].style.hide_index().hide_columns())\n",
    "    display(list_tableaus[table].style\\\n",
    "                .apply(lambda x: ['background: lightblue' if x.name == list_pivot_elements[table][1] else '' for i in x])\\\n",
    "                .apply(lambda x: ['background: lightblue' if x.name == list_pivot_elements[table][0] else '' for i in x], axis=1)\\\n",
    "                .hide_index()\\\n",
    "                .hide_columns())    \n",
    "    for message in range(len(Meldungen[table])):\n",
    "          display(widgets.Label(value=Meldungen[table][message]))\n",
    "    print()\n",
    "\n",
    "    \n",
    "\n",
    "            \n"
   ]
  },
  {
   "cell_type": "code",
   "execution_count": null,
   "id": "aaf209ad",
   "metadata": {},
   "outputs": [],
   "source": []
  },
  {
   "cell_type": "code",
   "execution_count": null,
   "id": "5228b13a",
   "metadata": {},
   "outputs": [],
   "source": []
  },
  {
   "cell_type": "code",
   "execution_count": null,
   "id": "5ce7d2c4",
   "metadata": {},
   "outputs": [],
   "source": []
  }
 ],
 "metadata": {
  "kernelspec": {
   "display_name": "Python 3 (ipykernel)",
   "language": "python",
   "name": "python3"
  },
  "language_info": {
   "codemirror_mode": {
    "name": "ipython",
    "version": 3
   },
   "file_extension": ".py",
   "mimetype": "text/x-python",
   "name": "python",
   "nbconvert_exporter": "python",
   "pygments_lexer": "ipython3",
   "version": "3.8.11"
  }
 },
 "nbformat": 4,
 "nbformat_minor": 5
}
